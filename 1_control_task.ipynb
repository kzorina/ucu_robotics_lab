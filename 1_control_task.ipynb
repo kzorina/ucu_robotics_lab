{
 "cells": [
  {
   "cell_type": "markdown",
   "metadata": {
    "id": "oo7mFDdCHOQz"
   },
   "source": [
    "# An introduction to optimal control using Crocoddyl"
   ]
  },
  {
   "cell_type": "markdown",
   "metadata": {
    "id": "woCIDRM6HOQ4"
   },
   "source": [
    "\n",
    "# Starting example: the unicycle\n",
    "\n",
    "An unicycle represents a kinematic model of a car where it's only possible to move in two directions, i.e. it drives forward and turns on the spot. It cannot move sideways\n",
    "\n",
    "In this example, we define an optimal-control problem for the classical unicycle. Our goal is to drive the unicycle towards the origin but at the same time not too fast. For that, the cost function is described as the sum between the distance to the origin and the system speed.\n",
    "\n"
   ]
  },
  {
   "cell_type": "markdown",
   "metadata": {
    "id": "Q6bbVhZdHOQ5"
   },
   "source": "Our optimal control problem has the following simulation model (ie predicting $x_{next}$ from current state $x$ and control $u$) and cost function:"
  },
  {
   "cell_type": "code",
   "metadata": {
    "id": "4XVko4cGHOQ5"
   },
   "source": [
    "import numpy as np\n",
    "x = np.random.rand(3)\n",
    "u = np.random.rand(2)\n",
    "\n",
    "# Unicycle dynamical model\n",
    "v, w = u\n",
    "c, s = np.cos(x[2]), np.sin(x[2])\n",
    "dt = 1e-2\n",
    "dx = np.array([v*c, v*s, w])\n",
    "xnext = x + dx*dt\n",
    "\n",
    "# Cost function: driving to origin (state) and reducing speed (control)\n",
    "stateWeight = 1\n",
    "ctrlWeight = 1\n",
    "costResiduals = np.concatenate([stateWeight*x, ctrlWeight*u])\n",
    "cost = .5* sum(costResiduals**2)"
   ],
   "outputs": [],
   "execution_count": null
  },
  {
   "cell_type": "markdown",
   "metadata": {
    "id": "05sNsfzUHOQ5"
   },
   "source": [
    "## Crocoddyl model of the unicycle\n"
   ]
  },
  {
   "cell_type": "markdown",
   "metadata": {
    "id": "mozlTSRHHOQ6"
   },
   "source": "For this basic example, the unicycle model is coded in the library crocoddyl. If you are curious, have a look! It is in https://github.com/loco-3d/crocoddyl/blob/master/include/crocoddyl/core/actions/unicycle.hxx . We will show you below how a similar model can be developped in Python (easier for prototyping, but far less efficient)."
  },
  {
   "cell_type": "markdown",
   "metadata": {
    "id": "gR_YQf2lHOQ6"
   },
   "source": [
    "We create such a model with the following lines:"
   ]
  },
  {
   "cell_type": "code",
   "metadata": {
    "id": "WnDAR68KHOQ6"
   },
   "source": [
    "import crocoddyl\n",
    "model = crocoddyl.ActionModelUnicycle()\n",
    "data  = model.createData()"
   ],
   "outputs": [],
   "execution_count": null
  },
  {
   "cell_type": "code",
   "metadata": {
    "id": "fGPAVLDeHOQ7"
   },
   "source": [
    "# TODO: tune weights to arrive exactly at the point\n",
    "model.costWeights = np.array([\n",
    "    1.,   # state weight\n",
    "    5.  # control weight\n",
    "])"
   ],
   "outputs": [],
   "execution_count": null
  },
  {
   "cell_type": "markdown",
   "metadata": {
    "id": "REavtOugHOQ7"
   },
   "source": [
    "## Defining the shooting problem\n",
    "Now we have the action model, let's define the complete problem.\n",
    "A shooting problem is defined by the initial state and a sequence of action models.\n"
   ]
  },
  {
   "cell_type": "code",
   "metadata": {
    "id": "2vAVEEYdHOQ7"
   },
   "source": [
    "T  = 100  # horizon\n",
    "x0 = np.array([-1,-1,1])  # initial state\n"
   ],
   "outputs": [],
   "execution_count": null
  },
  {
   "cell_type": "markdown",
   "metadata": {
    "id": "YEFEIEcbHOQ8"
   },
   "source": [
    "Here we define a problem starting from $\\mathbf{x}_0$ with 100 timesteps (of 0.1 sec by default implementation of unicycle). The terminal action model is the same as the running action model.\n",
    "\n",
    "This defines the model, not any algorithm to solve it. The only computation that the problem can provide is to integrate the system for a given sequence of controls."
   ]
  },
  {
   "metadata": {},
   "cell_type": "code",
   "source": "problem = crocoddyl.ShootingProblem(x0, [ model ] * T, model)",
   "outputs": [],
   "execution_count": null
  },
  {
   "cell_type": "code",
   "metadata": {
    "id": "Iv9jHACCHOQ8"
   },
   "source": [
    "us = [ np.array([1., .1]).T for t in range(T)]\n",
    "xs = problem.rollout(us)"
   ],
   "outputs": [],
   "execution_count": null
  },
  {
   "cell_type": "markdown",
   "metadata": {
    "id": "XyljKo7KHOQ8"
   },
   "source": [
    "The plotUnicycle function plots the system as two arrows that represent the wheels"
   ]
  },
  {
   "cell_type": "code",
   "metadata": {
    "colab": {
     "base_uri": "https://localhost:8080/",
     "height": 576
    },
    "id": "4ZDRKfJfHOQ8",
    "outputId": "daeca3c4-f67d-443e-c4c2-9aeaa9562303"
   },
   "source": [
    "%matplotlib inline\n",
    "import matplotlib.pylab as plt\n",
    "from utils.unicycle import plotUnicycleSolution\n",
    "plotUnicycleSolution(xs)\n",
    "plt.axis([-3,1.,-2.,2.])"
   ],
   "outputs": [],
   "execution_count": null
  },
  {
   "cell_type": "markdown",
   "metadata": {
    "id": "Qv0--EO7HOQ8"
   },
   "source": [
    "## Solve the OCP\n",
    "The main solver is named SolverDDP. Other solvers exist, and you can also add other solvers (taken off the shelf, reimplemented from the literature and invented by yourselves). \n",
    "\n",
    "The DDP solver is initialized with the problem object and mostly contains the ddp.solve method."
   ]
  },
  {
   "cell_type": "code",
   "metadata": {
    "id": "N_5-sYJyHOQ8"
   },
   "source": "ddp = crocoddyl.SolverDDP(problem)",
   "outputs": [],
   "execution_count": null
  },
  {
   "cell_type": "markdown",
   "metadata": {
    "id": "0IU1pz58HOQ9"
   },
   "source": [
    "A useful tool, classical to many solvers, is the callback function, that will be called at every iteration. Here we set up two of them: the first will verbosely comment the solver progress, and the second log the progress for later exploitation in plots."
   ]
  },
  {
   "cell_type": "code",
   "metadata": {
    "id": "1I8E_yHTHOQ9"
   },
   "source": [
    "# Add solvers for verbosity and plots\n",
    "ddp.setCallbacks([crocoddyl.CallbackLogger(), crocoddyl.CallbackVerbose()])\n"
   ],
   "outputs": [],
   "execution_count": null
  },
  {
   "cell_type": "markdown",
   "metadata": {
    "id": "2yiPiP8jHOQ9"
   },
   "source": [
    "We can warm start it and tune the parameters, but for the simple unicycle, let's just solve it!"
   ]
  },
  {
   "cell_type": "code",
   "metadata": {
    "colab": {
     "base_uri": "https://localhost:8080/"
    },
    "id": "L1WJiP3HHOQ9",
    "outputId": "bf6c131c-11f4-441d-d959-d97e7196f9cf"
   },
   "source": [
    "done = ddp.solve()\n",
    "assert(done)"
   ],
   "outputs": [],
   "execution_count": null
  },
  {
   "cell_type": "markdown",
   "metadata": {
    "id": "6ipFiZbGHOQ9"
   },
   "source": [
    "Let's plot the result"
   ]
  },
  {
   "cell_type": "code",
   "metadata": {
    "colab": {
     "base_uri": "https://localhost:8080/",
     "height": 559
    },
    "id": "9abiC8aPHOQ9",
    "outputId": "a7c1171b-7009-4349-f14e-dc6b770ac993"
   },
   "source": [
    "plotUnicycleSolution(ddp.xs, goal=[0.,0.])"
   ],
   "outputs": [],
   "execution_count": null
  },
  {
   "cell_type": "markdown",
   "metadata": {
    "id": "ErOJDoauHOQ-"
   },
   "source": "There multiple functions to exlore the journey of the solver, but we will not go into too much detail."
  },
  {
   "cell_type": "code",
   "metadata": {
    "colab": {
     "base_uri": "https://localhost:8080/",
     "height": 1000
    },
    "id": "Vv1EAMN2HOQ-",
    "outputId": "59525100-031e-4253-b2af-7147523da65b"
   },
   "source": [
    "log = ddp.getCallbacks()[0]\n",
    "crocoddyl.plotOCSolution(log.xs, log.us, figIndex=1, show=False)\n",
    "# crocoddyl.plotConvergence(\n",
    "#     log.costs,\n",
    "#     log.pregs,\n",
    "#     log.dregs,\n",
    "#     log.grads,\n",
    "#     log.stops,\n",
    "#     log.steps,\n",
    "#     figIndex=2,\n",
    "#     show=False,\n",
    "# )\n"
   ],
   "outputs": [],
   "execution_count": null
  },
  {
   "cell_type": "markdown",
   "metadata": {
    "id": "BPNlq8kVHOQ-"
   },
   "source": [
    "The terminal state chosen by the solver is:"
   ]
  },
  {
   "cell_type": "code",
   "metadata": {
    "colab": {
     "base_uri": "https://localhost:8080/"
    },
    "id": "FWGqf-4OHOQ-",
    "outputId": "305c8649-da00-4b03-f824-1457a5aec6f6"
   },
   "source": [
    "print(ddp.xs[-1])"
   ],
   "outputs": [],
   "execution_count": null
  },
  {
   "cell_type": "markdown",
   "metadata": {
    "id": "3ZtoGsDTHOQ-"
   },
   "source": [
    "## Well, the terminal state is not so nicely in the origin.\n",
    "\n",
    "Question 1: why?\n",
    "\n",
    "Question 2: How can you change this?\n",
    "\n",
    "Question 3: by changing the cost parameters, the time horizon and the initial position, can you trigger a maneuver?"
   ]
  },
  {
   "cell_type": "markdown",
   "metadata": {
    "id": "ZnOts-6RHOQ-"
   },
   "source": [
    "----\n",
    "# Second example: Defining your own (bicopter) model\n",
    "\n",
    "Unicycle is a very basic example. Most interesting problems in robotics are written at the acceleration level to easily convey forces and action-reaction phenomena. We will now consider a bicopter model (i.e. a UAV evolving in a vertical plane). It is composed of two rotors producing pure orthogonal forces, hence leading to linear and angular accelerations resulting from the thrust and gravity effects.\n",
    "\n",
    "## Bicopter equations of motion\n",
    "The bicopter is defined by its mass $m$, wingspan $l$ (distance from the copter center to each propeller), inertia $i=l^2m$ and gravity $g$. The state $x=(q,v)$ is the concatenation of position and velocity of the copter, with $q=(x_1,x_2,\\theta)$, $x_1$ the horizontal position, $x_2$ the vertical position and $\\theta$ the angle) and  $v=(v_1,v_2,\\omega)$ the horizontal, vertical and angle velocities.\n",
    "The control is the thrust (vertical forces) of right then left propellers $(u=(f_r, f_l)$).\n",
    "\n",
    "The linear and angular forces due to the propellers are easy to express in the local frame:\n",
    "$$f = \\left(0, f_r+f_l, (f_r-f_l) l \\right)$$\n",
    "The acceleration in world frame is then obtained by rotating the linear forces, dividing by mass and inertia and adding the gravity:\n",
    "$$a = \\left(-\\frac{f[1] \\sin(\\theta)}{m}, \\frac{f[1] \\cos(\\theta)}{m}-g, \\frac{f[2]}{i} \\right)$$\n",
    "\n"
   ]
  },
  {
   "cell_type": "markdown",
   "metadata": {
    "id": "7sbrAf32HOQ_"
   },
   "source": [
    "## Integration of the motion equations\n",
    "Like for the unicyle model, we need to integrate this quantity to get the next state $x_{next}$ from the current state $x$ and control $u$. Now, the bicopter is in acceleration, so the integration should be repeated twice (from acceleration to position). We could do that directly in the action model. Yet Crocoddyl is proposing to split this in two different classes, specifically for acceleration-based models.\n",
    "- The *differential* action model (DAM) implement the (acceleration) equation of motion and integral cost written as a differential.\n",
    "- The *integral* action model (IAM) takes the differential and numerically integrates it. We mostly propose to use Euler integration (although RK4 integration is also available, and other integrator can be implemented). The next state $x_+=(q_+,v_+)$ is then obtained from $x=(q,v)$ and the computed acceleration:\n",
    "$$v_+ = v + a \\Delta t$$\n",
    "$$q_+ = q + v_+ \\Delta t$$\n",
    "with $\\Delta t$ the integration step, defined as a hyperparameter (tune it with the trade-off between numerical accuracy --pleading for small $\\Delta t$-- and computational efficiency --pleading for large $\\Delta t$). Note the $v_+$ in the second row: we call that *implicit* Euler integration, and it is marginally more stable.\n"
   ]
  },
  {
   "cell_type": "markdown",
   "metadata": {
    "id": "WlLOh-TzHOQ_"
   },
   "source": [
    "In Crocoddyl, we often write the costs as a sum of square. The cost $\\ell(x,u)$ is typically defined as:\n",
    "$$\\ell(x,u) = \\frac{1}{2} r(x,u)^T r(x,u)$$\n",
    "with $r(x,u)$ is called the residuals.\n",
    "This has the practical consequence that we can approximate the Hessian of the cost $H$ can be approximated to the squared of the residual Jacobian, e.g.:\n",
    "$$\\frac{\\partial^2 \\ell}{\\partial x^2} \\approx \\frac{\\partial r}{\\partial x}^T \\frac{\\partial r}{\\partial x}$$"
   ]
  },
  {
   "cell_type": "markdown",
   "metadata": {
    "id": "C9Pe_0ZAHOQ_"
   },
   "source": [
    "For the copter, we propose to put quite a lot of terms in $r$ so that you can *play* with many hyperparameters to tune:\n",
    "$$r=(x_1,x_2,\\sin(\\theta),1-\\cos(\\theta),v,u,a) \\in \\mathbb{R}^{12}$$"
   ]
  },
  {
   "cell_type": "markdown",
   "metadata": {
    "id": "nuYmYnzqHOQ_"
   },
   "source": [
    "## Hyperparameters\n",
    "The optimal control will be defined by the following hyperparameters."
   ]
  },
  {
   "cell_type": "code",
   "metadata": {
    "id": "TiSZOs9YHORD"
   },
   "source": [
    "timeStep = 0.01  # horizon\n",
    "x0 = np.array([1.0, 0.0, 0.0,  0.0, 0.0, 0.0])  # initial state\n",
    "T = 50\n"
   ],
   "outputs": [],
   "execution_count": null
  },
  {
   "cell_type": "markdown",
   "metadata": {
    "id": "05GP7mU_HORE"
   },
   "source": [
    "## Syntax of the DAM\n",
    "Below is a template for the DAM. Implement the equation of motion in the *calc* function. It must compute the acceleration and store it in `data.xout` (array of size 3); the residual and store it in `data.residual` (array of size 12); and the cost as half of the sum of $r$ squared."
   ]
  },
  {
   "cell_type": "code",
   "metadata": {
    "id": "2uttqcGOHORE"
   },
   "source": [
    "class DifferentialActionModelBicopter(crocoddyl.DifferentialActionModelAbstract):\n",
    "\n",
    "    def __init__(self):\n",
    "        '''\n",
    "        Init on top of the DAM class.\n",
    "        Mostly set up the hyperparameters of this model (mass, length, cost, etc).\n",
    "        '''\n",
    "        crocoddyl.DifferentialActionModelAbstract.__init__(\n",
    "            self, crocoddyl.StateVector(6), nu=2, nr=12\n",
    "        )\n",
    "        self.unone = np.zeros(self.nu)\n",
    "\n",
    "        self.span = .2\n",
    "        self.mass = 2.\n",
    "        self.g = 10\n",
    "        self.inertia = self.mass*self.span**2\n",
    "\n",
    "        self.costWeights = [\n",
    "            0.1, # x\n",
    "            0.1, # z\n",
    "            .10, # s\n",
    "            .10, # c\n",
    "            0.001, # vx\n",
    "            0.001, # vz\n",
    "            0.001, # w\n",
    "            0.0, # fr\n",
    "            0.0, # fl\n",
    "            0.001,0.001,0.001, # a\n",
    "        ]  # sin, 1-cos, x, xdot, thdot, f\n",
    "\n",
    "    def calc(self, data, x, u=None):\n",
    "        if u is None:\n",
    "            u = self.unone\n",
    "        # Getting the state and control variables\n",
    "        x1, x2, th, v1, v2, w = x\n",
    "        fr, fl = u\n",
    "\n",
    "        # TODO: write proper acceleration computation\n",
    "        data.xout = 10 * np.ones(3)\n",
    "\n",
    "        # TODO: write residual computation\n",
    "        data.r = self.costWeights * np.zeros(12)\n",
    "\n",
    "        # TODO: write cost computation\n",
    "        data.cost = 0.\n"
   ],
   "outputs": [],
   "execution_count": null
  },
  {
   "cell_type": "markdown",
   "metadata": {
    "id": "EC2kWjYxHORE"
   },
   "source": [
    "Fill this template by adding your own code. Then create a model object."
   ]
  },
  {
   "cell_type": "code",
   "metadata": {
    "id": "xYZ9dr2jHORE"
   },
   "source": "dam = DifferentialActionModelBicopter()\n",
   "outputs": [],
   "execution_count": null
  },
  {
   "cell_type": "markdown",
   "metadata": {
    "id": "xbPgeVBlHORE"
   },
   "source": [
    "## Finite differences\n",
    "You can also define a `calcDiff` method, with the same signature of `calc`, to compute the derivatives and store them in the corresponding fields of `data`. This is more advanced, useful for accuracy and efficiency. For today, we are rather going to compute the derivatives by finite differencing."
   ]
  },
  {
   "cell_type": "code",
   "metadata": {
    "id": "f2KRj7KtHORE"
   },
   "source": [
    "# Using NumDiff for computing the derivatives. We specify the\n",
    "# withGaussApprox=True to have approximation of the Hessian based on the\n",
    "# Jacobian of the cost residuals.\n",
    "damND = crocoddyl.DifferentialActionModelNumDiff(dam, True)\n"
   ],
   "outputs": [],
   "execution_count": null
  },
  {
   "cell_type": "markdown",
   "metadata": {
    "id": "jMKH-tksHORF"
   },
   "source": [
    "## Syntax of the integrator\n",
    "The DAM now just has to be given to a integrator \"IAM\" model."
   ]
  },
  {
   "cell_type": "code",
   "metadata": {
    "id": "TBnw52XCHORF"
   },
   "source": [
    "# Getting the IAM using the simpletic Euler rule\n",
    "iam = crocoddyl.IntegratedActionModelEuler(damND, timeStep)\n"
   ],
   "outputs": [],
   "execution_count": null
  },
  {
   "cell_type": "markdown",
   "metadata": {
    "id": "c8vmKF-FHORF"
   },
   "source": [
    "## Terminal model\n",
    "We suggest you use different weights for the terminal model."
   ]
  },
  {
   "cell_type": "code",
   "metadata": {
    "id": "mRFwp4iJHORF"
   },
   "source": [
    "# Similarly creates a terminal model, but change the cost weights\n",
    "terminalDam = DifferentialActionModelBicopter()\n",
    "terminalDamND = crocoddyl.DifferentialActionModelNumDiff(terminalDam, True)\n",
    "terminalIam = crocoddyl.IntegratedActionModelEuler(terminalDamND)\n",
    "\n",
    "terminalDam.costWeights[0] = 100 # horizontal position\n",
    "terminalDam.costWeights[1] = 100 # vertical position\n",
    "terminalDam.costWeights[2] = 100.0 # angle sin (first order)\n",
    "terminalDam.costWeights[3] = 100.0 # angle cos (second order)\n",
    "terminalDam.costWeights[4] = 100 # horizontal velocity\n",
    "terminalDam.costWeights[5] = 100 # vertical velocity\n",
    "terminalDam.costWeights[6] = 100 # angular velocity\n"
   ],
   "outputs": [],
   "execution_count": null
  },
  {
   "cell_type": "markdown",
   "metadata": {
    "id": "hOZsIaa7HORF"
   },
   "source": [
    "## Definition of the optimal control problem\n",
    "Now, you classically do:"
   ]
  },
  {
   "cell_type": "code",
   "metadata": {
    "colab": {
     "base_uri": "https://localhost:8080/"
    },
    "id": "yb7cWdIvHORF",
    "outputId": "11e13297-78b9-4305-d73c-80e5d5bf84e5"
   },
   "source": [
    "# Define the optimal control problem.\n",
    "problem = crocoddyl.ShootingProblem(x0, [iam] * T, terminalIam)\n",
    "\n",
    "# Solving it using DDP\n",
    "ddp = crocoddyl.SolverDDP(problem)\n",
    "ddp.setCallbacks([crocoddyl.CallbackLogger(), crocoddyl.CallbackVerbose()])\n",
    "\n",
    "### SOLVE THE PROBLEM\n",
    "done = ddp.solve([], [], 300)\n",
    "assert(done)\n"
   ],
   "outputs": [],
   "execution_count": null
  },
  {
   "cell_type": "markdown",
   "metadata": {
    "id": "3xdvpuUqHORF"
   },
   "source": "## Visualize the solution"
  },
  {
   "cell_type": "code",
   "metadata": {
    "id": "9KL7t_FOHORG"
   },
   "source": [
    "from utils.bicopter import plotBicopterSolution,ViewerBicopter"
   ],
   "outputs": [],
   "execution_count": null
  },
  {
   "cell_type": "code",
   "metadata": {
    "colab": {
     "base_uri": "https://localhost:8080/",
     "height": 1000
    },
    "id": "NNEXn7vqHORG",
    "outputId": "d96c973d-da99-47ef-ba9b-f76997c116c0"
   },
   "source": [
    "log = ddp.getCallbacks()[0]\n",
    "crocoddyl.plotOCSolution(log.xs, log.us, figIndex=1, show=False)\n",
    "# crocoddyl.plotConvergence(\n",
    "#     log.costs,\n",
    "#     log.pregs,\n",
    "#     log.dregs,\n",
    "#     log.grads,\n",
    "#     log.stops,\n",
    "#     log.steps,\n",
    "#     figIndex=2,\n",
    "#     show=False,\n",
    "# )\n",
    "\n",
    "plotBicopterSolution(list(ddp.xs)[::3])\n"
   ],
   "outputs": [],
   "execution_count": null
  },
  {
   "cell_type": "markdown",
   "metadata": {
    "id": "2cCpLSm0HORG"
   },
   "source": [
    "If you want, you can see the movement in a 3D visualization."
   ]
  },
  {
   "cell_type": "code",
   "metadata": {
    "id": "RObrWRrXHORG"
   },
   "source": [
    "viz = ViewerBicopter()\n"
   ],
   "outputs": [],
   "execution_count": null
  },
  {
   "cell_type": "code",
   "metadata": {
    "id": "vpWyikS0rsN4"
   },
   "source": [
    "viz.viz.viewer.jupyter_cell()"
   ],
   "outputs": [],
   "execution_count": null
  },
  {
   "cell_type": "code",
   "metadata": {
    "id": "75A2PDEwHORG"
   },
   "source": [
    "viz.displayTrajectory(ddp.xs,timeStep*2)"
   ],
   "outputs": [],
   "execution_count": null
  },
  {
   "cell_type": "markdown",
   "metadata": {
    "id": "lCxFP9tSHORH"
   },
   "source": [
    "----\n",
    "# Conclusion\n",
    "Like the unicycle, you can similarly play with the copter, changing the initial conditions or the weights, which should trigger different maneuvers or even strange behaviors. Remember this is a local optimization solver, which you better warm start with a sound behavior when trying to achieve something fancy.\n",
    "\n",
    "In this work, you drove you to use the basic part of Crocoddyl API: the basic solver DDP, and the basic front end. For the front end, many features based on Pinocchio are implemented. For the solvers, other more advanced solvers have been added, and we hope many more are to come. "
   ]
  },
  {
   "cell_type": "code",
   "metadata": {},
   "source": [],
   "outputs": [],
   "execution_count": null
  }
 ],
 "metadata": {
  "colab": {
   "provenance": []
  },
  "kernelspec": {
   "display_name": "Python 3 (ipykernel)",
   "language": "python",
   "name": "python3"
  },
  "language_info": {
   "codemirror_mode": {
    "name": "ipython",
    "version": 3
   },
   "file_extension": ".py",
   "mimetype": "text/x-python",
   "name": "python",
   "nbconvert_exporter": "python",
   "pygments_lexer": "ipython3",
   "version": "3.10.15"
  }
 },
 "nbformat": 4,
 "nbformat_minor": 4
}
