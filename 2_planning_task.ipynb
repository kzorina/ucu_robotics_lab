{
 "cells": [
  {
   "cell_type": "markdown",
   "metadata": {},
   "source": [
    "# Practical Task: Implementing RRT in 2D Navigation\n",
    "In this task, you'll implement parts of the Rapidly-Exploring Random Tree (RRT) algorithm to navigate a point robot from a start position to a goal position in a 2D environment with obstacles.\n",
    "\n",
    "The task is divided into sections, and by the end, you should have a basic RRT planner.\n",
    "\n",
    "## Problem Setup\n",
    "- A 2D environment with obstacles\n",
    "- A start position and a goal position\n",
    "- Your goal is to navigate from start to goal using RRT\n"
   ]
  },
  {
   "cell_type": "markdown",
   "metadata": {},
   "source": [
    "### Step 1: Define the Environment\n",
    "The environment consists of a grid with obstacles. Run the cell below to visualize it."
   ]
  },
  {
   "cell_type": "code",
   "execution_count": null,
   "metadata": {},
   "outputs": [],
   "source": [
    "import numpy as np\n",
    "import matplotlib.pyplot as plt\n",
    "from matplotlib.animation import FuncAnimation"
   ]
  },
  {
   "cell_type": "code",
   "execution_count": null,
   "metadata": {},
   "outputs": [],
   "source": [
    "# Environment setup\n",
    "grid_size = 100\n",
    "obstacles = [\n",
    "    ((20, 20), 10),\n",
    "    ((60, 60), 15),\n",
    "    ((40, 80), 10),\n",
    "    ((80, 30), 10)\n",
    "]\n",
    "start_pos = (5, 5)\n",
    "goal_pos = (90, 90)\n",
    "step_size = 5"
   ]
  },
  {
   "cell_type": "code",
   "execution_count": null,
   "metadata": {},
   "outputs": [],
   "source": [
    "# Plot setup\n",
    "fig, ax = plt.subplots(figsize=(6, 6))\n",
    "plt.xlim(0, grid_size)\n",
    "plt.ylim(0, grid_size)\n",
    "\n",
    "# Plot obstacles\n",
    "for (center, radius) in obstacles:\n",
    "    circle = plt.Circle(center, radius, color='gray')\n",
    "    ax.add_patch(circle)\n",
    "\n",
    "# Plot start and goal positions\n",
    "ax.plot(start_pos[0], start_pos[1], 'go', label='Start')\n",
    "ax.plot(goal_pos[0], goal_pos[1], 'ro', label='Goal')\n",
    "ax.legend()\n",
    "plt.show()"
   ]
  },
  {
   "cell_type": "markdown",
   "metadata": {},
   "source": [
    "### Step 2: Define Key Functions for RRT\n",
    "1. **Sampling function** - Generates random points within the grid.\n",
    "2. **Distance function** - Computes the Euclidean distance between two points.\n",
    "3. **Collision check** - Ensures that new points do not collide with obstacles. (already implemented)\n"
   ]
  },
  {
   "cell_type": "code",
   "execution_count": null,
   "metadata": {},
   "outputs": [],
   "source": [
    "# Sampling function\n",
    "def sample_point():\n",
    "    # TODO: sample a point on a grid (integer values) f\n",
    "    return 10, 10\n",
    "\n",
    "# Distance function\n",
    "def distance(p1, p2):\n",
    "    # TODO: compute distance between two points\n",
    "    return 0.\n",
    "\n",
    "# Collision check\n",
    "def is_collision(point):\n",
    "    for (center, radius) in obstacles:\n",
    "        if distance(point, center) < radius:\n",
    "            return True\n",
    "    return False"
   ]
  },
  {
   "cell_type": "markdown",
   "metadata": {},
   "source": [
    "### Step 3: Implement RRT Expansion\n",
    "The RRT algorithm grows a tree by sampling random points and extending the nearest point in the tree toward the sample, up to a step size.\n",
    "\n",
    "In this step, complete the `extend` function, which should:\n",
    "- Find the closest node in the tree\n",
    "- Extend a new node towards the sample (up to a step size of `5`)\n",
    "- Check if the new node collides with any obstacles\n",
    "- Return the new node if it's valid, otherwise discard it\n"
   ]
  },
  {
   "cell_type": "code",
   "execution_count": null,
   "metadata": {},
   "outputs": [],
   "source": [
    "# Finish function that adds nodes to the tree\n",
    "def extend(tree, sample):\n",
    "    # Find the nearest node in the tree\n",
    "    nearest_node = min(tree.keys(), key=lambda node: distance(node, sample))\n",
    "    # TODO: finish the extend function\n",
    "\n",
    "    return None"
   ]
  },
  {
   "cell_type": "markdown",
   "metadata": {},
   "source": [
    "### Step 4: Run the RRT\n",
    "In this step, we'll run RRT to find a path. The algorithm will stop if it reaches the goal within a distance of `10` units.\n",
    "\n",
    "Run the cell to complete the task and visualize the result."
   ]
  },
  {
   "cell_type": "code",
   "execution_count": null,
   "metadata": {},
   "outputs": [],
   "source": [
    "# Initialize the RRT tree with the starting position\n",
    "tree = {start_pos: None}\n",
    "goal_reached = False\n",
    "\n",
    "path = []\n",
    "print(f\"Tree Nodes: {len(list(tree.keys()))}\")  # Only for debugging"
   ]
  },
  {
   "cell_type": "code",
   "execution_count": null,
   "metadata": {},
   "outputs": [],
   "source": [
    "lines = []\n",
    "def update(frame):\n",
    "    global goal_reached, path\n",
    "    \n",
    "    if goal_reached:\n",
    "        return lines  # Stop updating once the goal is reached\n",
    "\n",
    "    # Extend tree and add a new node\n",
    "    sample = sample_point()\n",
    "    new_node = extend(tree, sample)\n",
    "\n",
    "    if new_node:\n",
    "        parent = tree[new_node]\n",
    "        line, = ax.plot([new_node[0], parent[0]], [new_node[1], parent[1]], 'b.-')\n",
    "        lines.append(line)\n",
    "        \n",
    "        # Check if goal is reached\n",
    "        if distance(new_node, goal_pos) < 10:\n",
    "            tree[goal_pos] = new_node\n",
    "            goal_reached = True\n",
    "            \n",
    "            # Backtrack to find the path\n",
    "            node = goal_pos\n",
    "            while node is not None:\n",
    "                path.append(node)\n",
    "                node = tree[node]\n",
    "            path = path[::-1]  # Reverse the path for correct order\n",
    "            \n",
    "            # Plot the final path\n",
    "            path_x, path_y = zip(*path)\n",
    "            ax.plot(path_x, path_y, 'r-', linewidth=2, label='Path to Goal')\n",
    "            ax.legend()\n",
    "\n",
    "    return lines\n",
    "    \n",
    "def clear_plot():\n",
    "    ax.clear()  # Clear previous frames\n",
    "    # Replot obstacles, start and goal\n",
    "    for (center, radius) in obstacles:\n",
    "        circle = plt.Circle(center, radius, color='gray')\n",
    "        ax.add_patch(circle)\n",
    "    ax.plot(start_pos[0], start_pos[1], 'go', label='Start')\n",
    "    ax.plot(goal_pos[0], goal_pos[1], 'ro', label='Goal')\n",
    "    return lines\n",
    "    \n",
    "# Create animation\n",
    "ani = FuncAnimation(fig, update, init_func=clear_plot, frames=200, blit=True, repeat=False)"
   ]
  },
  {
   "cell_type": "code",
   "execution_count": null,
   "metadata": {},
   "outputs": [],
   "source": [
    "from IPython.display import HTML\n",
    "lines = []\n",
    "HTML(ani.to_jshtml())"
   ]
  },
  {
   "cell_type": "code",
   "execution_count": null,
   "metadata": {},
   "outputs": [],
   "source": []
  },
  {
   "cell_type": "code",
   "execution_count": null,
   "metadata": {},
   "outputs": [],
   "source": []
  }
 ],
 "metadata": {
  "kernelspec": {
   "display_name": "Python 3 (ipykernel)",
   "language": "python",
   "name": "python3"
  },
  "language_info": {
   "codemirror_mode": {
    "name": "ipython",
    "version": 3
   },
   "file_extension": ".py",
   "mimetype": "text/x-python",
   "name": "python",
   "nbconvert_exporter": "python",
   "pygments_lexer": "ipython3",
   "version": "3.10.15"
  }
 },
 "nbformat": 4,
 "nbformat_minor": 4
}
